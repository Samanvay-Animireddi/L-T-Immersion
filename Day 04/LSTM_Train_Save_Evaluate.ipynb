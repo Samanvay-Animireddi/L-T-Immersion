{
 "cells": [
  {
   "cell_type": "markdown",
   "id": "598d2b7b",
   "metadata": {},
   "source": [
    "# LSTM Model Training, Saving, and Evaluation"
   ]
  },
  {
   "cell_type": "code",
   "execution_count": null,
   "id": "45a1e893",
   "metadata": {},
   "outputs": [],
   "source": [
    "import pandas as pd\n",
    "import numpy as np\n",
    "import matplotlib.pyplot as plt\n",
    "from sklearn.preprocessing import MinMaxScaler\n",
    "from sklearn.metrics import mean_squared_error, mean_absolute_error, r2_score\n",
    "from tensorflow.keras.models import Sequential, load_model\n",
    "from tensorflow.keras.layers import LSTM, Dense\n",
    "from tensorflow.keras.callbacks import EarlyStopping\n",
    "import joblib\n",
    "import os"
   ]
  },
  {
   "cell_type": "code",
   "execution_count": null,
   "id": "9458b3f2",
   "metadata": {},
   "outputs": [],
   "source": [
    "df = pd.read_csv(\"realistic_threshold_noise_flow_data.csv\")\n",
    "df['timestamp'] = pd.to_datetime(df['timestamp'])\n",
    "df = df.set_index('timestamp')\n",
    "\n",
    "features = ['flow_rate', 'pressure', 'temperature_C']\n",
    "data = df[features]"
   ]
  },
  {
   "cell_type": "code",
   "execution_count": null,
   "id": "6635e9b2",
   "metadata": {},
   "outputs": [],
   "source": [
    "scaler = MinMaxScaler()\n",
    "scaled_data = scaler.fit_transform(data)\n",
    "\n",
    "os.makedirs(\"models\", exist_ok=True)\n",
    "joblib.dump(scaler, \"models/lstm_scaler.gz\")"
   ]
  },
  {
   "cell_type": "code",
   "execution_count": null,
   "id": "402bf2be",
   "metadata": {},
   "outputs": [],
   "source": [
    "def create_sequences(data, seq_length=24):\n",
    "    X, y = [], []\n",
    "    for i in range(len(data) - seq_length):\n",
    "        X.append(data[i:i+seq_length])\n",
    "        y.append(data[i+seq_length][0])  # Predict flow_rate\n",
    "    return np.array(X), np.array(y)\n",
    "\n",
    "seq_length = 24\n",
    "X, y = create_sequences(scaled_data, seq_length)"
   ]
  },
  {
   "cell_type": "code",
   "execution_count": null,
   "id": "9dc8492e",
   "metadata": {},
   "outputs": [],
   "source": [
    "split = int(0.8 * len(X))\n",
    "X_train, X_test = X[:split], X[split:]\n",
    "y_train, y_test = y[:split], y[split:]"
   ]
  },
  {
   "cell_type": "code",
   "execution_count": null,
   "id": "023b68d7",
   "metadata": {},
   "outputs": [],
   "source": [
    "model = Sequential([\n",
    "    LSTM(50, return_sequences=True, input_shape=(seq_length, len(features))),\n",
    "    LSTM(50),\n",
    "    Dense(1)\n",
    "])\n",
    "model.compile(optimizer='adam', loss='mse')\n",
    "\n",
    "early_stopping = EarlyStopping(patience=5, restore_best_weights=True)\n",
    "model.fit(X_train, y_train, validation_data=(X_test, y_test), epochs=50, callbacks=[early_stopping])"
   ]
  },
  {
   "cell_type": "code",
   "execution_count": null,
   "id": "c9768f9e",
   "metadata": {},
   "outputs": [],
   "source": [
    "model.save(\"models/lstm_model.h5\")\n",
    "print(\"✅ Model and scaler saved.\")"
   ]
  },
  {
   "cell_type": "code",
   "execution_count": null,
   "id": "1f00a3bc",
   "metadata": {},
   "outputs": [],
   "source": [
    "# Predict\n",
    "y_pred = model.predict(X_test).flatten()\n",
    "\n",
    "# Inverse scale predictions and actuals\n",
    "flow_scaler = scaler.scale_[0]\n",
    "flow_min = scaler.min_[0]\n",
    "y_test_actual = y_test * flow_scaler + flow_min\n",
    "y_pred_actual = y_pred * flow_scaler + flow_min\n",
    "\n",
    "# Metrics\n",
    "mse = mean_squared_error(y_test_actual, y_pred_actual)\n",
    "rmse = np.sqrt(mse)\n",
    "mae = mean_absolute_error(y_test_actual, y_pred_actual)\n",
    "r2 = r2_score(y_test_actual, y_pred_actual)\n",
    "\n",
    "# Custom accuracy\n",
    "def regression_accuracy(y_true, y_pred, tolerance=0.1):\n",
    "    rel_error = np.abs((y_pred - y_true) / y_true)\n",
    "    accurate = rel_error < tolerance\n",
    "    return np.mean(accurate) * 100\n",
    "\n",
    "accuracy = regression_accuracy(y_test_actual, y_pred_actual)\n",
    "\n",
    "# Display\n",
    "print(\"📊 Performance Metrics:\")\n",
    "print(f\"✅ MSE: {mse:.4f}\")\n",
    "print(f\"✅ RMSE: {rmse:.4f}\")\n",
    "print(f\"✅ MAE: {mae:.4f}\")\n",
    "print(f\"✅ R² Score: {r2:.4f}\")\n",
    "print(f\"✅ Accuracy (within ±10%): {accuracy:.2f}%\")"
   ]
  },
  {
   "cell_type": "code",
   "execution_count": null,
   "id": "26cd384a",
   "metadata": {},
   "outputs": [],
   "source": [
    "plt.figure(figsize=(12, 6))\n",
    "plt.plot(y_test_actual[:200], label='Actual Flow Rate')\n",
    "plt.plot(y_pred_actual[:200], label='Predicted Flow Rate', linestyle='dashed')\n",
    "plt.title(\"Flow Rate: Actual vs Predicted\")\n",
    "plt.xlabel(\"Time Steps\")\n",
    "plt.ylabel(\"Flow Rate\")\n",
    "plt.legend()\n",
    "plt.grid(True)\n",
    "plt.tight_layout()\n",
    "plt.show()"
   ]
  }
 ],
 "metadata": {},
 "nbformat": 4,
 "nbformat_minor": 5
}
