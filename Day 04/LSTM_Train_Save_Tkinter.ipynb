{
 "cells": [
  {
   "cell_type": "markdown",
   "id": "615a882e",
   "metadata": {},
   "source": [
    "# LSTM Model Training and Saving for Tkinter GUI"
   ]
  },
  {
   "cell_type": "code",
   "execution_count": null,
   "id": "00dd85fa",
   "metadata": {},
   "outputs": [],
   "source": [
    "import pandas as pd\n",
    "import numpy as np\n",
    "from sklearn.preprocessing import MinMaxScaler\n",
    "from tensorflow.keras.models import Sequential\n",
    "from tensorflow.keras.layers import LSTM, Dense\n",
    "from tensorflow.keras.callbacks import EarlyStopping\n",
    "import joblib\n",
    "import os"
   ]
  },
  {
   "cell_type": "code",
   "execution_count": null,
   "id": "d3866e52",
   "metadata": {},
   "outputs": [],
   "source": [
    "# Load dataset\n",
    "df = pd.read_csv(\"realistic_threshold_noise_flow_data.csv\")\n",
    "df['timestamp'] = pd.to_datetime(df['timestamp'])\n",
    "df = df.set_index('timestamp')\n",
    "\n",
    "# Select features\n",
    "features = ['flow_rate', 'pressure', 'temperature_C']\n",
    "data = df[features].copy()"
   ]
  },
  {
   "cell_type": "code",
   "execution_count": null,
   "id": "64056874",
   "metadata": {},
   "outputs": [],
   "source": [
    "scaler = MinMaxScaler()\n",
    "scaled_data = scaler.fit_transform(data)\n",
    "\n",
    "# Save scaler\n",
    "os.makedirs(\"models\", exist_ok=True)\n",
    "joblib.dump(scaler, \"models/lstm_scaler.gz\")"
   ]
  },
  {
   "cell_type": "code",
   "execution_count": null,
   "id": "4ed3c709",
   "metadata": {},
   "outputs": [],
   "source": [
    "def create_sequences(data, seq_length=24):\n",
    "    X, y = [], []\n",
    "    for i in range(len(data) - seq_length):\n",
    "        X.append(data[i:i+seq_length])\n",
    "        y.append(data[i+seq_length][0])  # Predict flow_rate\n",
    "    return np.array(X), np.array(y)\n",
    "\n",
    "seq_length = 24\n",
    "X, y = create_sequences(scaled_data, seq_length)"
   ]
  },
  {
   "cell_type": "code",
   "execution_count": null,
   "id": "6d7aae73",
   "metadata": {},
   "outputs": [],
   "source": [
    "split = int(0.8 * len(X))\n",
    "X_train, X_test = X[:split], X[split:]\n",
    "y_train, y_test = y[:split], y[split:]"
   ]
  },
  {
   "cell_type": "code",
   "execution_count": null,
   "id": "44d9f2d8",
   "metadata": {},
   "outputs": [],
   "source": [
    "model = Sequential([\n",
    "    LSTM(50, return_sequences=True, input_shape=(seq_length, len(features))),\n",
    "    LSTM(50),\n",
    "    Dense(1)\n",
    "])\n",
    "model.compile(optimizer='adam', loss='mse')\n",
    "\n",
    "early_stopping = EarlyStopping(patience=5, restore_best_weights=True)\n",
    "model.fit(X_train, y_train, validation_data=(X_test, y_test), epochs=50, callbacks=[early_stopping])"
   ]
  },
  {
   "cell_type": "code",
   "execution_count": null,
   "id": "647bc10f",
   "metadata": {},
   "outputs": [],
   "source": [
    "model.save(\"models/lstm_model.h5\")\n",
    "print(\"✅ Model and scaler saved in 'models' directory.\")"
   ]
  }
 ],
 "metadata": {},
 "nbformat": 4,
 "nbformat_minor": 5
}
